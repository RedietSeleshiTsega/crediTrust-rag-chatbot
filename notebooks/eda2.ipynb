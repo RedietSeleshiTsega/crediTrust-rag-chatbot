{
 "cells": [
  {
   "cell_type": "code",
   "execution_count": 1,
   "id": "bec6c356",
   "metadata": {},
   "outputs": [
    {
     "name": "stderr",
     "output_type": "stream",
     "text": [
      "c:\\Users\\bless\\OneDrive\\Desktop\\week _6\\crediTrust-rag-chatbot\\.venv\\Lib\\site-packages\\tqdm\\auto.py:21: TqdmWarning: IProgress not found. Please update jupyter and ipywidgets. See https://ipywidgets.readthedocs.io/en/stable/user_install.html\n",
      "  from .autonotebook import tqdm as notebook_tqdm\n"
     ]
    }
   ],
   "source": [
    "import pandas as pd\n",
    "from sentence_transformers import SentenceTransformer\n",
    "from langchain.text_splitter import RecursiveCharacterTextSplitter\n",
    "import faiss\n",
    "import numpy as np\n",
    "import os\n",
    "import pickle\n",
    "from tqdm import tqdm"
   ]
  },
  {
   "cell_type": "code",
   "execution_count": 2,
   "id": "8b827a08",
   "metadata": {},
   "outputs": [],
   "source": [
    "df = pd.read_csv(r'C:\\Users\\bless\\OneDrive\\Desktop\\week _6\\crediTrust-rag-chatbot\\data\\filtered\\filtered_complaints.csv')"
   ]
  },
  {
   "cell_type": "code",
   "execution_count": 3,
   "id": "9cee49a3",
   "metadata": {},
   "outputs": [],
   "source": [
    "splitter = RecursiveCharacterTextSplitter(\n",
    "    chunk_size=500,     \n",
    "    chunk_overlap=50  \n",
    ")    \n"
   ]
  },
  {
   "cell_type": "code",
   "execution_count": 4,
   "id": "b305483c",
   "metadata": {},
   "outputs": [
    {
     "name": "stderr",
     "output_type": "stream",
     "text": [
      "100%|██████████| 80667/80667 [00:39<00:00, 2032.49it/s]\n"
     ]
    }
   ],
   "source": [
    "documents = []\n",
    "metadata = []\n",
    "for idx, row in tqdm(df.iterrows(), total=len(df)):\n",
    "    chunks = splitter.split_text(row['cleaned_narrative'])\n",
    "    for chunk in chunks:\n",
    "        documents.append(chunk)\n",
    "        metadata.append({'product': row['Product'], 'source_idx': idx})"
   ]
  },
  {
   "cell_type": "code",
   "execution_count": 5,
   "id": "2fc4cfb2",
   "metadata": {},
   "outputs": [
    {
     "name": "stderr",
     "output_type": "stream",
     "text": [
      "Batches: 100%|██████████| 7088/7088 [2:36:31<00:00,  1.32s/it]     \n"
     ]
    }
   ],
   "source": [
    "model = SentenceTransformer('all-MiniLM-L6-v2')\n",
    "embeddings = model.encode(documents, show_progress_bar=True)"
   ]
  },
  {
   "cell_type": "code",
   "execution_count": 6,
   "id": "91cd22b3",
   "metadata": {},
   "outputs": [],
   "source": [
    "dim = embeddings.shape[1]\n",
    "index = faiss.IndexFlatL2(dim)\n",
    "index.add(np.array(embeddings))"
   ]
  },
  {
   "cell_type": "code",
   "execution_count": 7,
   "id": "4e0da040",
   "metadata": {},
   "outputs": [],
   "source": [
    "os.makedirs('vector_store', exist_ok=True)\n",
    "faiss.write_index(index, 'vector_store/faiss_index.index')"
   ]
  },
  {
   "cell_type": "code",
   "execution_count": 8,
   "id": "0aa01551",
   "metadata": {},
   "outputs": [],
   "source": [
    "with open('vector_store/documents.pkl', 'wb') as f:\n",
    "    pickle.dump(documents, f)\n",
    "\n",
    "with open('vector_store/metadata.pkl', 'wb') as f:\n",
    "    pickle.dump(metadata, f)"
   ]
  }
 ],
 "metadata": {
  "kernelspec": {
   "display_name": ".venv",
   "language": "python",
   "name": "python3"
  },
  "language_info": {
   "codemirror_mode": {
    "name": "ipython",
    "version": 3
   },
   "file_extension": ".py",
   "mimetype": "text/x-python",
   "name": "python",
   "nbconvert_exporter": "python",
   "pygments_lexer": "ipython3",
   "version": "3.13.4"
  }
 },
 "nbformat": 4,
 "nbformat_minor": 5
}
